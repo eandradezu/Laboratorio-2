{
 "cells": [
  {
   "cell_type": "markdown",
   "id": "fbdf7790-2312-4a3c-823a-7a86a6054ef8",
   "metadata": {},
   "source": [
    "# Laboratorio 2"
   ]
  },
  {
   "cell_type": "markdown",
   "id": "b942aee1-8fd6-4682-8d41-330870b93251",
   "metadata": {},
   "source": [
    "## Ejercicio 1"
   ]
  },
  {
   "cell_type": "code",
   "execution_count": 136,
   "id": "0794a724-c2ae-49fb-8fa7-8f89359ebad8",
   "metadata": {},
   "outputs": [
    {
     "name": "stdin",
     "output_type": "stream",
     "text": [
      "Ingrese tiempo en segundos:  2465\n"
     ]
    },
    {
     "name": "stdout",
     "output_type": "stream",
     "text": [
      "Horas: 0 , Minutos: 41 , Segundos: 5\n"
     ]
    }
   ],
   "source": [
    "try:\n",
    "    tiempo= int(input(\"Ingrese tiempo en segundos: \"))\n",
    "    horas=tiempo//3600\n",
    "    minutos=(tiempo-horas*3600)//60\n",
    "    segundos=((tiempo-horas*3600)-minutos*60)\n",
    "    print (\"Horas:\",horas,\", Minutos:\",minutos,\", Segundos:\",segundos)\n",
    "except ValueError:\n",
    "    print (\"Valor inválido. Por favor ingresar un número entero.\")"
   ]
  },
  {
   "cell_type": "markdown",
   "id": "efd53c33-b691-4312-9250-e737020dec1a",
   "metadata": {},
   "source": [
    "## Ejercicio 2"
   ]
  },
  {
   "cell_type": "code",
   "execution_count": 331,
   "id": "c6c001bb-a96c-4fe9-a010-d268d657ae80",
   "metadata": {},
   "outputs": [
    {
     "name": "stdin",
     "output_type": "stream",
     "text": [
      "Igrese un número entero:  6\n",
      "Ingrese un carácter cualquiera:  m\n"
     ]
    },
    {
     "name": "stdout",
     "output_type": "stream",
     "text": [
      "m\n",
      "m m\n",
      "m m m\n",
      "m m m m\n",
      "m m m m\n",
      "m m m\n",
      "m m\n",
      "m\n",
      "m\n",
      "m m\n",
      "m m m\n",
      "m m m m\n",
      "m m m m\n",
      "m m m\n",
      "m m\n",
      "m\n",
      "m\n",
      "m m\n",
      "m m m\n",
      "m m m m\n",
      "m m m m\n",
      "m m m\n",
      "m m\n",
      "m\n"
     ]
    }
   ],
   "source": [
    "try:\n",
    "    def tri (num,s):\n",
    "        for x in range(1,num+1):\n",
    "            if x %2==0:\n",
    "                print(s,s,s,s)\n",
    "                print(s,s,s)\n",
    "                print(s,s)\n",
    "                print(s)\n",
    "            else: \n",
    "                print(s)\n",
    "                print(s,s)\n",
    "                print(s,s,s)\n",
    "                print(s,s,s,s)\n",
    "    \n",
    "    num=int(input(\"Igrese un número entero: \"))\n",
    "    s=str(input(\"Ingrese un carácter cualquiera: \"))\n",
    "\n",
    "    tri(num,s)\n",
    "except ValueError:\n",
    "    print(\"Valor inválido. Por favor ingrese un número entero.\")"
   ]
  },
  {
   "cell_type": "markdown",
   "id": "2225ce29-56fd-4eeb-bd19-1f1652560d06",
   "metadata": {},
   "source": [
    "## Ejercicio 3"
   ]
  },
  {
   "cell_type": "code",
   "execution_count": 201,
   "id": "0eed806c-ca28-463f-8418-a59f1510bbef",
   "metadata": {},
   "outputs": [
    {
     "name": "stdin",
     "output_type": "stream",
     "text": [
      "Ingrese día de nacimiento:  6\n",
      "Ingrese mes de nacimiento:  4\n",
      "Ingrese año de nacimiento:  2003\n"
     ]
    },
    {
     "name": "stdout",
     "output_type": "stream",
     "text": [
      "Su edad es 21 años 0 meses y 19 días.\n"
     ]
    }
   ],
   "source": [
    "try:\n",
    "    dia=int(input(\"Ingrese día de nacimiento: \"))\n",
    "    mes=int(input(\"Ingrese mes de nacimiento: \"))\n",
    "    año=int(input(\"Ingrese año de nacimiento: \"))\n",
    "    if ((mes >=1) and (mes <=12)):\n",
    "        e_año=str(max(2024-año,0))  \n",
    "        if ((mes ==1) or (mes ==3) or (mes == 5) or (mes==7) or (mes ==8) or (mes==10) or (mes ==12)) and (dia >=1) and (dia <=31):\n",
    "            e_mes=str(max(2-mes,0))\n",
    "            e_dia=str(max(25-dia,0))\n",
    "            print(\"Su edad es \"+e_año+\" años \"+e_mes+\" meses y \"+e_dia+\" días.\")\n",
    "        elif (mes==2) and (dia >=1) and (dia <=29):\n",
    "            e_mes=str(max(2-mes,0))\n",
    "            e_dia=str(max(25-dia,0))\n",
    "            print(\"Su edad es \"+e_año+\" años \"+e_mes+\" meses y \"+e_dia+\" días.\")\n",
    "        elif ((mes==4) or (mes==6) or (mes==9) or (mes==11)) and (dia >=1) and (dia <=30):\n",
    "            e_mes=str(max(2-mes,0))\n",
    "            e_dia=str(max(25-dia,0))\n",
    "            print(\"Su edad es \"+e_año+\" años \"+e_mes+\" meses y \"+e_dia+\" días.\")\n",
    "        else:\n",
    "            print(\"El día no es válido\")\n",
    "    else: \n",
    "        print(\"El mes no es válido\")\n",
    "    \n",
    "   \n",
    "except ValueError:\n",
    "    print(\"Valor inválido, por favor ingrese su fecha de nacimiento en números enteros.\")\n"
   ]
  },
  {
   "cell_type": "markdown",
   "id": "d4a65c70-c649-43e2-a2cd-2f036a7168c2",
   "metadata": {},
   "source": [
    "## Ejercicio 4"
   ]
  },
  {
   "cell_type": "code",
   "execution_count": 252,
   "id": "7effd049-0f4f-448e-b8c0-922a5bdb8bb9",
   "metadata": {},
   "outputs": [
    {
     "name": "stdin",
     "output_type": "stream",
     "text": [
      "Ingrese elementos a su tupla:  78652156\n"
     ]
    },
    {
     "name": "stdout",
     "output_type": "stream",
     "text": [
      "78652156\n"
     ]
    }
   ],
   "source": [
    "def convertir (tupla):\n",
    "    string=\"\".join(str(elemento) for elemento in tupla)    \n",
    "    print (string)\n",
    "tupla = tuple(input(\"Ingrese elementos a su tupla: \"))\n",
    "convertir(tupla)"
   ]
  },
  {
   "cell_type": "markdown",
   "id": "ea509533-d9b7-4e30-8da2-1034238e26b2",
   "metadata": {},
   "source": [
    "## Ejercicio 5"
   ]
  },
  {
   "cell_type": "code",
   "execution_count": 271,
   "id": "e1a94a02-2f22-4804-b487-506565ef1ed7",
   "metadata": {},
   "outputs": [
    {
     "name": "stdin",
     "output_type": "stream",
     "text": [
      "Ingrese elementos a su tupla:  5645 15 5151\n"
     ]
    },
    {
     "name": "stdout",
     "output_type": "stream",
     "text": [
      "('5', '6', '4', '5', '1', '5', '5', '1', '5', '1')\n"
     ]
    }
   ],
   "source": [
    "tuplas=tuple(input(\"Ingrese elementos a su tupla: \"))\n",
    "vacio=\" \"\n",
    "nueva=tuple(elemento for elemento in tuplas if elemento!= vacio)\n",
    "print(nueva)"
   ]
  },
  {
   "cell_type": "markdown",
   "id": "00f7012c-5d86-4c46-92b4-b4c8704edd63",
   "metadata": {},
   "source": [
    "## Ejercicio 6"
   ]
  },
  {
   "cell_type": "code",
   "execution_count": 304,
   "id": "baa2d9ea-5176-4625-9422-591917251430",
   "metadata": {},
   "outputs": [
    {
     "name": "stdout",
     "output_type": "stream",
     "text": [
      "(10.5, 44.0, 58.0)\n"
     ]
    }
   ],
   "source": [
    "tp1=(10,10,10,12)\n",
    "tp2=(30,45,56,45)\n",
    "tp3=(81,80,39,32)\n",
    "tps=(tp1,tp2,tp3)\n",
    "\n",
    "int1=[int(elemento)for elemento in tp1]\n",
    "t1=sum(int1)\n",
    "count1=len(int1)\n",
    "avg1=t1/count1\n",
    "\n",
    "int2=[int(elemento)for elemento in tp2]\n",
    "t2=sum(int2)\n",
    "count2=len(int2)\n",
    "avg2=t2/count2\n",
    "\n",
    "int3=[int(elemento)for elemento in tp3]\n",
    "t3=sum(int3)\n",
    "count3=len(int3)\n",
    "avg3=t3/count3\n",
    "\n",
    "nueva=(avg1,avg2,avg3)\n",
    "tuple(nueva)\n",
    "print(nueva)"
   ]
  },
  {
   "cell_type": "code",
   "execution_count": 310,
   "id": "2aff3d02-fc1d-4fa1-947f-4ee27199f03f",
   "metadata": {},
   "outputs": [
    {
     "name": "stdin",
     "output_type": "stream",
     "text": [
      "Ingrese números a su tupla:  dfghjk,\n",
      "Ingrese números a su tupla:  521452\n",
      "Ingrese números a su tupla:  615106\n"
     ]
    },
    {
     "name": "stdout",
     "output_type": "stream",
     "text": [
      "Valor inválido. Por favor ingrese números enteros.\n"
     ]
    }
   ],
   "source": [
    "try:\n",
    "\n",
    "    def promedio (tps):      \n",
    "\n",
    "        int1=[int(elemento)for elemento in tp1]\n",
    "        t1=sum(int1)\n",
    "        count1=len(int1)\n",
    "        avg1=t1/count1\n",
    "        \n",
    "        int2=[int(elemento)for elemento in tp2]\n",
    "        t2=sum(int2)\n",
    "        count2=len(int2)\n",
    "        avg2=t2/count2\n",
    "        \n",
    "        int3=[int(elemento)for elemento in tp3]\n",
    "        t3=sum(int3)\n",
    "        count3=len(int3)\n",
    "        avg3=t3/count3\n",
    "        tps=(avg1,avg2,avg3)\n",
    "        print(tps)\n",
    "    tp1 = tuple(input(\"Ingrese números a su tupla: \"))\n",
    "    tp2 = tuple(input(\"Ingrese números a su tupla: \"))\n",
    "    tp3 = tuple(input(\"Ingrese números a su tupla: \"))                \n",
    "\n",
    "    promedio(tps)\n",
    "        \n",
    "except ValueError:\n",
    "    print(\"Valor inválido. Por favor ingrese números enteros.\")"
   ]
  },
  {
   "cell_type": "markdown",
   "id": "8edde687-eeb6-47ce-a5aa-8b70d9182837",
   "metadata": {},
   "source": [
    "## Ejercicio 7"
   ]
  },
  {
   "cell_type": "code",
   "execution_count": 404,
   "id": "5deece6d-a923-46f9-a56a-ccfa5cd17710",
   "metadata": {},
   "outputs": [],
   "source": [
    "facturas={}\n",
    "dict_pagado={}"
   ]
  },
  {
   "cell_type": "code",
   "execution_count": 410,
   "id": "7e2e58c7-985d-4804-a3d2-0d16fdd0592b",
   "metadata": {},
   "outputs": [
    {
     "name": "stdin",
     "output_type": "stream",
     "text": [
      "Bienvenido. Por favor seleccione la opción deseada.\n",
      "    1: Ingresar una factura\n",
      "    2: Pagar una factura\n",
      "    3: Terminar\n",
      "     1\n",
      "Ingrese el código de factura:  2003\n",
      "Ingrese el valor de la factura:  50\n"
     ]
    },
    {
     "name": "stdout",
     "output_type": "stream",
     "text": [
      "La factura fue agregada exitosamente.\n",
      "El total pagado exitosamente es: 50\n",
      "El total pendiente de cobro es: 120\n",
      "Las facturas existentes son: {5262: 50, 1001: 20, 2003: 50}\n"
     ]
    }
   ],
   "source": [
    "try:\n",
    "    entrada=str(input('''Bienvenido. Por favor seleccione la opción deseada.\n",
    "    1: Ingresar una factura\n",
    "    2: Pagar una factura\n",
    "    3: Terminar\n",
    "    '''))\n",
    "    if (entrada != \"1\") and (entrada != \"2\") and (entrada != \"3\"):\n",
    "        print(\"Opción inválida, por favor ingrese una de las opciones aceptadas.\")\n",
    "    else: \n",
    "      \n",
    "        if entrada == \"1\":\n",
    "            cod=int(input(\"Ingrese el código de factura (de 1000 a 9999): \"))\n",
    "            valor=int(input(\"Ingrese el valor de la factura: \"))\n",
    "            if cod in facturas:\n",
    "                print(\"Este código ya existe. Seleccione la opción 2 si desea pagar la factura.\")\n",
    "            else:\n",
    "                if (cod >=1000) and (cod <=9999):\n",
    "                    facturas.update({cod:valor})\n",
    "                    pendiente=sum(facturas.values())\n",
    "                    print(\"La factura fue agregada exitosamente.\")\n",
    "                    print(\"El total pagado exitosamente es: \"+str(hechos))\n",
    "                    print(\"El total pendiente de cobro es: \"+str(pendiente))\n",
    "                    print((\"Las facturas existentes son: \") + str(facturas))\n",
    "                else:\n",
    "                    print(\"El código es incorrecto debe contener 4 digítos.\")\n",
    "        if entrada ==\"2\":\n",
    "            cod=int(input(\"Ingrese el código de factura: \"))\n",
    "            if cod in facturas:\n",
    "                dict_pagado[cod]=facturas[cod]\n",
    "                del facturas [cod]\n",
    "                hechos=sum(dict_pagado.values())\n",
    "                print(\"La factura fue pagada exitosamente.\")\n",
    "                print(\"El total pagado exitosamente es: \"+str(hechos))\n",
    "                print(\"El total pendiente de cobro es: \"+str(pendiente))\n",
    "                print((\"Las facturas existentes son: \") + str(facturas))\n",
    "            else:\n",
    "                print(\"Este código de factura no existe en la base.\")\n",
    "        \n",
    "        if entrada ==\"3\":\n",
    "            print (\"Sesión terminada.\")\n",
    "except ValueError:\n",
    "    print (\"Valor inválido. Debe ingresar números enteros.\")"
   ]
  },
  {
   "cell_type": "markdown",
   "id": "b5805a6c-7e9e-47e0-9ee0-9c67ec91d11b",
   "metadata": {},
   "source": [
    "## Ejercicio 8"
   ]
  },
  {
   "cell_type": "code",
   "execution_count": 465,
   "id": "e4a687dc-5a40-4f92-bb88-7dcff520de9f",
   "metadata": {
    "editable": true,
    "slideshow": {
     "slide_type": ""
    },
    "tags": []
   },
   "outputs": [],
   "source": [
    "import numpy as np\n",
    "num={'01','02','03','04','05','06','07','08','09','10','11','12','13'}\n",
    "color={'T','C','P','E'}\n",
    "numa=np.array(list(num))\n",
    "colora=np.array(list(color))\n",
    "combo=np.array(np.meshgrid(numa,colora,indexing='ij')).T.reshape(-1,2)\n",
    "scombo=set(map(tuple,combo))\n"
   ]
  },
  {
   "cell_type": "code",
   "execution_count": 500,
   "id": "f426d484-ddda-491e-b6cd-53b4877ac636",
   "metadata": {},
   "outputs": [],
   "source": [
    "import random\n",
    "def conjuntos (scombo):\n",
    "\n",
    "    lista=list(scombo)\n",
    "    cant=random.randint(0,len(lista))\n",
    "    \n",
    "    subconjunto = set(random.sample(lista,cant))\n",
    "\n",
    "    return subconjunto\n",
    "\n",
    "c1=conjuntos(scombo)\n",
    "c2=conjuntos(scombo)"
   ]
  },
  {
   "cell_type": "code",
   "execution_count": 501,
   "id": "cdaa53d0-fde7-4de0-8f40-e462bc204438",
   "metadata": {},
   "outputs": [
    {
     "data": {
      "text/plain": [
       "{('01', 'E'),\n",
       " ('01', 'P'),\n",
       " ('02', 'E'),\n",
       " ('03', 'C'),\n",
       " ('03', 'T'),\n",
       " ('04', 'E'),\n",
       " ('04', 'P'),\n",
       " ('06', 'T'),\n",
       " ('09', 'C'),\n",
       " ('10', 'T'),\n",
       " ('11', 'E'),\n",
       " ('11', 'P'),\n",
       " ('13', 'C'),\n",
       " ('13', 'E')}"
      ]
     },
     "execution_count": 501,
     "metadata": {},
     "output_type": "execute_result"
    }
   ],
   "source": [
    "interseccion = c1 & c2\n",
    "interseccion"
   ]
  },
  {
   "cell_type": "markdown",
   "id": "f61e59f7-8b37-4967-9ab7-7394927f7e6e",
   "metadata": {},
   "source": [
    "#### Probabilidad intersección"
   ]
  },
  {
   "cell_type": "code",
   "execution_count": 502,
   "id": "d9293d0f-6e57-4b35-9ff2-c6a304e645a3",
   "metadata": {},
   "outputs": [
    {
     "data": {
      "text/plain": [
       "0.2692307692307692"
      ]
     },
     "execution_count": 502,
     "metadata": {},
     "output_type": "execute_result"
    }
   ],
   "source": [
    "p= (len(interseccion))/(len(scombo))\n",
    "p"
   ]
  },
  {
   "cell_type": "markdown",
   "id": "46c7b16c-ca45-4880-a937-dc9fa73f38c4",
   "metadata": {},
   "source": [
    "#### Probabilidad subconjunto 1"
   ]
  },
  {
   "cell_type": "code",
   "execution_count": 503,
   "id": "b409336c-2540-4b24-9a5d-c411035cce50",
   "metadata": {},
   "outputs": [
    {
     "data": {
      "text/plain": [
       "0.6730769230769231"
      ]
     },
     "execution_count": 503,
     "metadata": {},
     "output_type": "execute_result"
    }
   ],
   "source": [
    "p1= (len(c1))/(len(scombo))\n",
    "p1"
   ]
  },
  {
   "cell_type": "markdown",
   "id": "eb2da310-aa0b-4c48-a67f-30afe57216c4",
   "metadata": {},
   "source": [
    "#### Probabilidad subconjunto 2"
   ]
  },
  {
   "cell_type": "code",
   "execution_count": 504,
   "id": "729fc6c7-5767-485f-9360-cbe39609c6f7",
   "metadata": {},
   "outputs": [
    {
     "data": {
      "text/plain": [
       "0.40384615384615385"
      ]
     },
     "execution_count": 504,
     "metadata": {},
     "output_type": "execute_result"
    }
   ],
   "source": [
    "p2= (len(c2))/(len(scombo))\n",
    "p2"
   ]
  },
  {
   "cell_type": "markdown",
   "id": "4ecb366c-e562-4f24-b6ea-6e00c376a699",
   "metadata": {},
   "source": [
    "#### Regla del producto"
   ]
  },
  {
   "cell_type": "code",
   "execution_count": 505,
   "id": "377d2bb3-22c5-4db7-bb49-186ef24f5395",
   "metadata": {},
   "outputs": [
    {
     "data": {
      "text/plain": [
       "0.271819526627219"
      ]
     },
     "execution_count": 505,
     "metadata": {},
     "output_type": "execute_result"
    }
   ],
   "source": [
    "p1*p2"
   ]
  },
  {
   "cell_type": "markdown",
   "id": "31f60749-465c-4b63-940c-0ac2ed78e140",
   "metadata": {},
   "source": [
    "Ambos eventos son dependientes, dao que el producto de sus probabilidades no es igual a su intesección."
   ]
  },
  {
   "cell_type": "markdown",
   "id": "40a27210-ca46-45e6-903a-c7fd42348c33",
   "metadata": {},
   "source": [
    "#### Unión"
   ]
  },
  {
   "cell_type": "code",
   "execution_count": 514,
   "id": "d5cd9d9e-a4cc-44e3-83dd-99bc4d14134a",
   "metadata": {},
   "outputs": [
    {
     "data": {
      "text/plain": [
       "0.8076923076923079"
      ]
     },
     "execution_count": 514,
     "metadata": {},
     "output_type": "execute_result"
    }
   ],
   "source": [
    "p1+p2-p"
   ]
  },
  {
   "cell_type": "code",
   "execution_count": 534,
   "id": "b9d8dd8f-ec4e-45c1-b538-72469a4f07d7",
   "metadata": {},
   "outputs": [
    {
     "data": {
      "text/plain": [
       "0.8076923076923077"
      ]
     },
     "execution_count": 534,
     "metadata": {},
     "output_type": "execute_result"
    }
   ],
   "source": [
    "union=c1.union(c2)\n",
    "pu=len(union)/len(scombo)\n",
    "pu"
   ]
  },
  {
   "cell_type": "markdown",
   "id": "72bd0c18-e8d1-4a2b-8535-f22b775e5b11",
   "metadata": {},
   "source": [
    "Se comprueba que la probabilidad de la unión según la regla de adición (celda 514) es igual a la calculada según la cardinalidad de elementos (celda 534)."
   ]
  }
 ],
 "metadata": {
  "kernelspec": {
   "display_name": "Python 3 (ipykernel)",
   "language": "python",
   "name": "python3"
  },
  "language_info": {
   "codemirror_mode": {
    "name": "ipython",
    "version": 3
   },
   "file_extension": ".py",
   "mimetype": "text/x-python",
   "name": "python",
   "nbconvert_exporter": "python",
   "pygments_lexer": "ipython3",
   "version": "3.11.5"
  }
 },
 "nbformat": 4,
 "nbformat_minor": 5
}
